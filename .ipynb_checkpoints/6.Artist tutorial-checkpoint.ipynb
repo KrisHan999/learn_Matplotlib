{
 "cells": [
  {
   "cell_type": "code",
   "execution_count": 1,
   "metadata": {
    "ExecuteTime": {
     "end_time": "2019-08-16T04:29:55.266037Z",
     "start_time": "2019-08-16T04:29:51.133251Z"
    }
   },
   "outputs": [],
   "source": [
    "import matplotlib.pyplot as plt\n",
    "import matplotlib as mpl\n",
    "import numpy as np"
   ]
  },
  {
   "cell_type": "markdown",
   "metadata": {},
   "source": [
    "# Artist tutorial\n",
    "\n",
    "Using Artist objects to render on the canvas.\n",
    "\n",
    "There are three layers to the matplotlib API.\n",
    "\n",
    "- the `matplotlib.backend_bases.FigureCanvas` is the area onto which the figure is drawn\n",
    "- the `matplotlib.backend_bases.Renderer` is the object which knows how to draw on the FigureCanvas\n",
    "- and the `matplotlib.artist.Artist` is the object that knows how to use a renderer to paint onto the canvas.\n",
    "\n",
    "**Artist handles all the high level constructs** like representing and laying out the figure, text, and lines."
   ]
  },
  {
   "cell_type": "markdown",
   "metadata": {},
   "source": [
    "## two types of Artists: primitives and containers\n",
    "- The primitives represent the standard graphical objects we want to paint onto our canvas: Line2D, Rectangle, Text, AxesImage, etc., \n",
    "- and the containers are places to put them (Axis, Axes and Figure)."
   ]
  },
  {
   "cell_type": "markdown",
   "metadata": {},
   "source": [
    "## standard use\n",
    "The **standard use** is to create a Figure instance, use the Figure to create one or more Axes or Subplot instances, and use the Axes instance helper methods to create the primitives."
   ]
  },
  {
   "cell_type": "markdown",
   "metadata": {},
   "source": [
    "## example"
   ]
  },
  {
   "cell_type": "markdown",
   "metadata": {},
   "source": [
    "### Create a `Figure` instance\n",
    "\n",
    "In the example below, we create a Figure instance using `matplotlib.pyplot.figure()`, which is a convenience method for **instantiating Figure instances and connecting them with your user interface or drawing toolkit FigureCanvas**."
   ]
  },
  {
   "cell_type": "code",
   "execution_count": 2,
   "metadata": {
    "ExecuteTime": {
     "end_time": "2019-08-16T04:29:55.473326Z",
     "start_time": "2019-08-16T04:29:55.267847Z"
    }
   },
   "outputs": [
    {
     "data": {
      "image/png": "[encoded data removed]",
      "text/plain": [
       "<Figure size 432x288 with 1 Axes>"
      ]
     },
     "metadata": {
      "needs_background": "light"
     },
     "output_type": "display_data"
    }
   ],
   "source": [
    "fig = plt.figure()\n",
    "ax = fig.add_subplot(2,1,1)"
   ]
  },
  {
   "cell_type": "markdown",
   "metadata": {},
   "source": [
    "### Work with `Axes`\n",
    "\n",
    "Axes is the **plotting area** into which most of the objects go, and the Axes has many special **helper methods (plot(), text(), hist(), imshow())** to create the most common graphics **primitives** (Line2D, Text, Rectangle, Image, respectively).\n",
    "\n",
    "These helper methods will take your data (e.g., numpy arrays and strings) and create primitive Artist instances as needed (e.g., Line2D), add them to the relevant containers, and draw them when requested.\n",
    "\n",
    "If you want to **create an Axes at an arbitrary location**, simply use the `add_axes()` method which takes a list of [left, bottom, width, height] values in 0-1 relative figure coordinates:"
   ]
  },
  {
   "cell_type": "code",
   "execution_count": 3,
   "metadata": {
    "ExecuteTime": {
     "end_time": "2019-08-16T04:29:55.573064Z",
     "start_time": "2019-08-16T04:29:55.477330Z"
    }
   },
   "outputs": [
    {
     "data": {
      "image/png": "[encoded data removed]",
      "text/plain": [
       "<Figure size 432x288 with 1 Axes>"
      ]
     },
     "metadata": {
      "needs_background": "light"
     },
     "output_type": "display_data"
    }
   ],
   "source": [
    "fig2 = plt.figure()\n",
    "ax2 = fig2.add_axes([0.15, 0.1, 0.7, 0.3])"
   ]
  },
  {
   "cell_type": "markdown",
   "metadata": {},
   "source": [
    "In this example, ax is the Axes instance created by the `fig.add_subplot` call above (remember Subplot is just a subclass of Axes) and when you call ax.plot, it **creates a Line2D instance and adds it to the Axes.lines list.**"
   ]
  },
  {
   "cell_type": "code",
   "execution_count": 4,
   "metadata": {
    "ExecuteTime": {
     "end_time": "2019-08-16T04:29:55.667286Z",
     "start_time": "2019-08-16T04:29:55.576058Z"
    }
   },
   "outputs": [
    {
     "data": {
      "image/png": "[encoded data removed]",
      "text/plain": [
       "<Figure size 432x288 with 1 Axes>"
      ]
     },
     "metadata": {
      "needs_background": "light"
     },
     "output_type": "display_data"
    }
   ],
   "source": [
    "fig = plt.figure()\n",
    "ax = fig.add_subplot(2,1,1)\n",
    "t = np.arange(0.0, 1.0, 0.01)\n",
    "s = np.sin(2*np.pi*t)\n",
    "line, = ax.plot(t, s, color='red', lw=2)"
   ]
  },
  {
   "cell_type": "code",
   "execution_count": 5,
   "metadata": {
    "ExecuteTime": {
     "end_time": "2019-08-16T04:29:55.675263Z",
     "start_time": "2019-08-16T04:29:55.669306Z"
    }
   },
   "outputs": [
    {
     "data": {
      "text/plain": [
       "<matplotlib.lines.Line2D at 0x2726bcded30>"
      ]
     },
     "execution_count": 5,
     "metadata": {},
     "output_type": "execute_result"
    }
   ],
   "source": [
    "ax.lines[0]"
   ]
  },
  {
   "cell_type": "code",
   "execution_count": 6,
   "metadata": {
    "ExecuteTime": {
     "end_time": "2019-08-16T04:29:55.682246Z",
     "start_time": "2019-08-16T04:29:55.677258Z"
    }
   },
   "outputs": [
    {
     "data": {
      "text/plain": [
       "<matplotlib.lines.Line2D at 0x2726bcded30>"
      ]
     },
     "execution_count": 6,
     "metadata": {},
     "output_type": "execute_result"
    }
   ],
   "source": [
    "line"
   ]
  },
  {
   "cell_type": "markdown",
   "metadata": {},
   "source": [
    "The Axes also has helper methods to configure and decorate the x-axis and y-axis tick, tick labels and axis labels:"
   ]
  },
  {
   "cell_type": "code",
   "execution_count": 7,
   "metadata": {
    "ExecuteTime": {
     "end_time": "2019-08-16T04:29:55.783999Z",
     "start_time": "2019-08-16T04:29:55.684241Z"
    }
   },
   "outputs": [
    {
     "data": {
      "image/png": "[encoded data removed]",
      "text/plain": [
       "<Figure size 432x288 with 1 Axes>"
      ]
     },
     "metadata": {
      "needs_background": "light"
     },
     "output_type": "display_data"
    }
   ],
   "source": [
    "fig = plt.figure()\n",
    "ax = fig.add_subplot(2,1,1)\n",
    "t = np.arange(0.0, 1.0, 0.01)\n",
    "s = np.sin(2*np.pi*t)\n",
    "line, = ax.plot(t, s, color='red', lw=2)\n",
    "\n",
    "xtext = ax.set_xlabel('my xdata') # returns a Text instance\n",
    "ytext = ax.set_ylabel('my ydata')"
   ]
  },
  {
   "cell_type": "markdown",
   "metadata": {},
   "source": [
    "When you call `ax.set_xlabel`, it passes the information on the Text instance of the XAxis. **Each Axes instance contains an XAxis and a YAxis instance, which handle the layout and drawing of the ticks, tick labels and axis labels.**"
   ]
  },
  {
   "cell_type": "code",
   "execution_count": 8,
   "metadata": {
    "ExecuteTime": {
     "end_time": "2019-08-16T04:29:56.142755Z",
     "start_time": "2019-08-16T04:29:55.786007Z"
    }
   },
   "outputs": [
    {
     "data": {
      "image/png": "[encoded data removed]",
      "text/plain": [
       "<Figure size 432x288 with 2 Axes>"
      ]
     },
     "metadata": {
      "needs_background": "light"
     },
     "output_type": "display_data"
    }
   ],
   "source": [
    "fig = plt.figure()\n",
    "fig.subplots_adjust(top=0.8)\n",
    "ax1 = fig.add_subplot(211)\n",
    "ax1.set_ylabel('volts')\n",
    "ax1.set_title('a sine wave')\n",
    "\n",
    "t = np.arange(0.0, 1.0, 0.01)\n",
    "s = np.sin(2*np.pi*t)\n",
    "line, = ax1.plot(t, s, color='blue', lw=2)\n",
    "\n",
    "np.random.seed(198204)\n",
    "\n",
    "ax2 = fig.add_axes([0.15, 0.1, 0.7, 0.3])\n",
    "n, bins, patches = ax2.hist(np.random.randn(1000), 50, facecolor='yellow', edgecolor='yellow')\n",
    "\n",
    "ax2.set_xlabel('time(s)')\n",
    "\n",
    "plt.show()"
   ]
  },
  {
   "cell_type": "markdown",
   "metadata": {},
   "source": [
    "## Object containers"
   ]
  },
  {
   "cell_type": "markdown",
   "metadata": {},
   "source": [
    "### Figure container\n",
    "\n",
    "The top level container Artist is the `matplotlib.figure.Figure`, and **it contains everything in the figure**. The background of the figure is a Rectangle which is stored in Figure.patch. As you add subplots (add_subplot()) and axes (add_axes()) to the figure these will be appended to the `Figure.axes`."
   ]
  },
  {
   "cell_type": "code",
   "execution_count": 9,
   "metadata": {
    "ExecuteTime": {
     "end_time": "2019-08-16T04:29:56.304020Z",
     "start_time": "2019-08-16T04:29:56.144723Z"
    }
   },
   "outputs": [
    {
     "name": "stdout",
     "output_type": "stream",
     "text": [
      "[<matplotlib.axes._subplots.AxesSubplot object at 0x000002726BD8FA90>, <matplotlib.axes._axes.Axes object at 0x000002726BED8A90>]\n"
     ]
    },
    {
     "data": {
      "image/png": "[encoded data removed]",
      "text/plain": [
       "<Figure size 432x288 with 2 Axes>"
      ]
     },
     "metadata": {
      "needs_background": "light"
     },
     "output_type": "display_data"
    }
   ],
   "source": [
    "fig = plt.figure()\n",
    "ax1 = fig.add_subplot(211)\n",
    "ax2 = fig.add_axes([0.1, 0.1, 0.7, 0.3])\n",
    "print(fig.axes)"
   ]
  },
  {
   "cell_type": "markdown",
   "metadata": {},
   "source": [
    "Because the **figure maintains the concept of the \"current axes\"** (see Figure.gca and Figure.sca) to support the pylab/pyplot state machine, you should not **insert or remove axes** directly from the axes list, but rather use the add_subplot() and add_axes() methods to insert, and the delaxes() method to delete."
   ]
  },
  {
   "cell_type": "markdown",
   "metadata": {},
   "source": [
    "**Here is a summary of the Artists the figure contains**\n",
    "\n",
    "|Figure attribute|Description|\n",
    "| :----------- | :----------- |\n",
    "|axes\t|A list of Axes instances (includes Subplot)|\n",
    "|patch\t|The Rectangle background|\n",
    "|images\t|A list of FigureImages patches - useful for raw pixel display|\n",
    "|legends\tA list of Figure Legend instances (different from Axes.legends)|\n",
    "|lines\t|A list of Figure Line2D instances (rarely used, see Axes.lines)|\n",
    "|patches|\tA list of Figure patches (rarely used, see Axes.patches)|\n",
    "|texts\t|A list Figure Text instances|"
   ]
  },
  {
   "cell_type": "markdown",
   "metadata": {},
   "source": [
    "### Axes container\n",
    "\n",
    "The `matplotlib.axes.Axes` is the center of the matplotlib universe -- it contains the vast majority of all the **Artists** used in a figure with many **helper methods** to create and add these Artists to itself, as well as helper methods to access and customize the Artists it contains.\n",
    "\n",
    "it contains a `Patch patch` which is a Rectangle for Cartesian coordinates and a Circle for polar coordinates; this patch **determines the shape, background and border of the plotting region**"
   ]
  },
  {
   "cell_type": "code",
   "execution_count": 11,
   "metadata": {
    "ExecuteTime": {
     "end_time": "2019-08-16T04:30:19.408657Z",
     "start_time": "2019-08-16T04:30:19.308898Z"
    }
   },
   "outputs": [
    {
     "data": {
      "image/png": "[encoded data removed]",
      "text/plain": [
       "<Figure size 432x288 with 1 Axes>"
      ]
     },
     "metadata": {
      "needs_background": "light"
     },
     "output_type": "display_data"
    }
   ],
   "source": [
    "fig = plt.figure()\n",
    "ax = fig.add_subplot(111)\n",
    "rect = ax.patch\n",
    "rect.set_facecolor('green')"
   ]
  },
  {
   "cell_type": "markdown",
   "metadata": {},
   "source": [
    "|Helper method|\tArtist|\tContainer|\n",
    "| ----------- | ----- | -------- |\n",
    "|ax.annotate - text annotations|\tAnnotate|\tax.texts|\n",
    "ax.bar - bar charts|\tRectangle|\tax.patches|\n",
    "ax.errorbar - error bar plots|\tLine2D and Rectangle|\tax.lines and ax.patches|\n",
    "ax.fill - shared area|\tPolygon|\tax.patches|\n",
    "ax.hist - histograms|\tRectangle|\tax.patches|\n",
    "ax.imshow - image data|\tAxesImage|\tax.images|\n",
    "ax.legend - axes legends|\tLegend|\tax.legends|\n",
    "ax.plot - xy plots|\tLine2D|\tax.lines|\n",
    "ax.scatter - scatter charts|\tPolygonCollection|\tax.collections|\n",
    "ax.text - text|\tText|\tax.texts|"
   ]
  },
  {
   "cell_type": "markdown",
   "metadata": {},
   "source": [
    "Below is a summary of the Artists that the Axes contains\n",
    "\n",
    "|Axes attribute|\tDescription|\n",
    "| ------------ | ------------- |\n",
    "|artists|\tA list of Artist instances|\n",
    "|patch|\tRectangle instance for Axes background|\n",
    "|collections|\tA list of Collection instances|\n",
    "|images|\tA list of AxesImage|\n",
    "|legends|\tA list of Legend instances|\n",
    "|lines|\tA list of Line2D instances|\n",
    "|patches|\tA list of Patch instances|\n",
    "|texts|\tA list of Text instances|\n",
    "|xaxis|\tmatplotlib.axis.XAxis instance|\n",
    "|yaxis|\tmatplotlib.axis.YAxis instance|"
   ]
  },
  {
   "cell_type": "markdown",
   "metadata": {},
   "source": [
    "### Axis container\n",
    "\n",
    "The `matplotlib.axis.Axis` instances handle the drawing of the **tick lines, the grid lines, the tick labels and the axis label**. You can configure the left and right ticks separately for the **y-axis**, and the upper and lower ticks separately for the **x-axis**."
   ]
  }
 ],
 "metadata": {
  "kernelspec": {
   "display_name": "Python 3",
   "language": "python",
   "name": "python3"
  },
  "language_info": {
   "codemirror_mode": {
    "name": "ipython",
    "version": 3
   },
   "file_extension": ".py",
   "mimetype": "text/x-python",
   "name": "python",
   "nbconvert_exporter": "python",
   "pygments_lexer": "ipython3",
   "version": "3.6.6"
  },
  "toc": {
   "base_numbering": 1,
   "nav_menu": {},
   "number_sections": true,
   "sideBar": true,
   "skip_h1_title": false,
   "title_cell": "Table of Contents",
   "title_sidebar": "Contents",
   "toc_cell": false,
   "toc_position": {},
   "toc_section_display": true,
   "toc_window_display": false
  }
 },
 "nbformat": 4,
 "nbformat_minor": 2
}
